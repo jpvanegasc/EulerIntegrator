{
    "cells" : [
        {
            "cell_type" : "code",
            "execution_count" : null,
            "metadata" : {},
            "outputs" : [],
            "source" : [ "import numpy as np\n", "\n", "import euler" ]
        },
        {
            "cell_type" : "code",
            "execution_count" : null,
            "metadata" : {},
            "outputs" : [],
            "source" : [
                "t = np.linspace(0, 10, 200)\n",
                "d = np.array(euler.integrate(10, -9.8, 200))\n", "\n", "t, d"
            ]
        }
    ],
    "metadata" : {
        "kernelspec" : {
            "display_name" : ".venv",
            "language" : "python",
            "name" : "python3"
        },
        "language_info" : {
            "codemirror_mode" : {"name" : "ipython", "version" : 3},
            "file_extension" : ".py",
            "mimetype" : "text/x-python",
            "name" : "python",
            "nbconvert_exporter" : "python",
            "pygments_lexer" : "ipython3",
            "version" : "3.10.14"
        }
    },
    "nbformat" : 4,
    "nbformat_minor" : 2
}
